{
  "cells": [
    {
      "cell_type": "code",
      "execution_count": null,
      "metadata": {
        "id": "hvoxQZdF4G2E"
      },
      "outputs": [],
      "source": [
        "# step_001 - no control at all\n",
        "# step_002 - stand up reward and parallel feet penalty\n",
        "# step_003 - step_002 and forward reward\n",
        "# step_004 - step_003 and control penalty, knee flex reward and foot up reward\n",
        "# step_007 - stand up reward only\n",
        "# step_008 - step_007 and forward reward\n",
        "\n",
        "current_step = 'step_007'"
      ]
    },
    {
      "cell_type": "code",
      "execution_count": null,
      "metadata": {
        "collapsed": true,
        "id": "K3asHLR1_a5J"
      },
      "outputs": [],
      "source": [
        "!apt install swig cmake ffmpeg xvfb python3-opengl\n",
        "!pip install pyvirtualdisplay imageio[ffmpeg]"
      ]
    },
    {
      "cell_type": "code",
      "execution_count": null,
      "metadata": {
        "collapsed": true,
        "id": "V5Uw6AIK_eBr"
      },
      "outputs": [],
      "source": [
        "import os\n",
        "\n",
        "NVIDIA_ICD_CONFIG_PATH = '/usr/share/glvnd/egl_vendor.d/10_nvidia.json'\n",
        "if not os.path.exists(NVIDIA_ICD_CONFIG_PATH):\n",
        "  with open(NVIDIA_ICD_CONFIG_PATH, 'w') as f:\n",
        "    f.write(\"\"\"{\n",
        "    \"file_format_version\" : \"1.0.0\",\n",
        "    \"ICD\" : {\n",
        "        \"library_path\" : \"libEGL_nvidia.so.0\"\n",
        "    }\n",
        "}\n",
        "\"\"\")\n",
        "\n",
        "%env MUJOCO_GL=egl\n",
        "\n",
        "from pyvirtualdisplay import Display\n",
        "virtual_display = Display(visible=0, size=(1920, 1080))\n",
        "virtual_display.start()"
      ]
    },
    {
      "cell_type": "code",
      "execution_count": null,
      "metadata": {
        "collapsed": true,
        "id": "dZAbUian_NS7"
      },
      "outputs": [],
      "source": [
        "# Prepare to load data from google drive\n",
        "from google.colab import drive\n",
        "import datetime\n",
        "\n",
        "# CONNECT TO GOOGLE DRIVE\n",
        "gdrive_path = '/content/drive'\n",
        "drive.mount(gdrive_path)\n",
        "\n",
        "# DEFINE WORK DIRECTORY\n",
        "workDir = os.path.join(gdrive_path, 'My Drive', 'OP3_TRAINNING', current_step)\n",
        "print('WorkDir:', workDir)\n",
        "\n",
        "log_dir = os.path.join(workDir, datetime.datetime.now().strftime(\"%Y%m%d-%H%M%S\"))\n",
        "print('LogDir:', log_dir)\n",
        "\n",
        "# create folder if it doesn't exists\n",
        "if not os.path.exists(log_dir):\n",
        "  os.makedirs(log_dir)\n",
        "\n",
        "tf_log_dir = os.path.join(log_dir, 'tensorboard_logs')\n",
        "print('TfLogDir:', tf_log_dir)\n",
        "\n",
        "# create folder if it doesn't exists\n",
        "if not os.path.exists(tf_log_dir):\n",
        "  os.makedirs(tf_log_dir)\n",
        "\n",
        "# best models\n",
        "to_load_path = os.path.join(workDir, 'best')\n",
        "print('to_load_path:', to_load_path)\n",
        "algos = [\"a2c\", \"ddpg\", \"ppo\", \"sac\", \"td3\"]\n",
        "for algo in algos:\n",
        "  algo_load_path = os.path.join(to_load_path, algo)\n",
        "  print('AlgoLoadPath:', algo_load_path)\n",
        "  if not os.path.exists(algo_load_path):\n",
        "    os.makedirs(algo_load_path)"
      ]
    },
    {
      "cell_type": "code",
      "execution_count": null,
      "metadata": {
        "collapsed": true,
        "id": "3Q0XgJntGtLW"
      },
      "outputs": [],
      "source": [
        "# clean content folder\n",
        "import os\n",
        "import shutil\n",
        "\n",
        "# location\n",
        "location = \"/content\"\n",
        "\n",
        "# directories\n",
        "dirs = [\"sample_data\"]\n",
        "\n",
        "for dir in dirs:\n",
        "    path = os.path.join(location, dir)\n",
        "    try:\n",
        "        shutil.rmtree(path)\n",
        "    except OSError as e:\n",
        "        print(\"Error: %s : %s\" % (path, e.strerror))"
      ]
    },
    {
      "cell_type": "code",
      "execution_count": null,
      "metadata": {
        "collapsed": true,
        "id": "ediC96n-xI2A"
      },
      "outputs": [],
      "source": [
        "# Install Darwin Model\n",
        "model_path = '/content/op3'\n",
        "%cd /\n",
        "\n",
        "if os.path.isdir(model_path):\n",
        "  print(f\"The directory '{model_path}' exists - git pull\")\n",
        "  %cd {model_path}\n",
        "  !git pull\n",
        "else:\n",
        "  print(f\"The directory '{model_path}' does not exist - git clone\")\n",
        "  !git clone https://github.com/Gianzanti/op3_model.git {model_path}\n"
      ]
    },
    {
      "cell_type": "code",
      "execution_count": null,
      "metadata": {
        "collapsed": true,
        "id": "IQwSCDW1xRgF"
      },
      "outputs": [],
      "source": [
        "%cd /\n",
        "!pip install -e {model_path}"
      ]
    },
    {
      "cell_type": "code",
      "execution_count": null,
      "metadata": {
        "collapsed": true,
        "id": "GsDs_ja7xW9G"
      },
      "outputs": [],
      "source": [
        "# Install RL Zoo\n",
        "trainner_path = '/content/rl-zoo'\n",
        "%cd /\n",
        "\n",
        "if os.path.isdir(trainner_path):\n",
        "  print(f\"The directory '{trainner_path}' exists - git pull\")\n",
        "  %cd {trainner_path}\n",
        "  !git pull\n",
        "else:\n",
        "  print(f\"The directory '{trainner_path}' does not exist - git clone\")\n",
        "  !git clone https://github.com/Gianzanti/rl-zoo.git {trainner_path}\n"
      ]
    },
    {
      "cell_type": "code",
      "execution_count": null,
      "metadata": {
        "collapsed": true,
        "id": "a0CKEYmH0y6v"
      },
      "outputs": [],
      "source": [
        "%cd /\n",
        "!pip install -e {trainner_path}"
      ]
    },
    {
      "cell_type": "code",
      "execution_count": null,
      "metadata": {
        "collapsed": true,
        "id": "wZ-shVIX6QE3"
      },
      "outputs": [],
      "source": [
        "%cd {trainner_path}\n",
        "\n",
        "algos = {\n",
        "  \"a2c\": {\n",
        "    \"lr\": 7e-4, \"dev\": \"cpu\"\n",
        "  },\n",
        "  'ddpg': {\n",
        "    'lr': 1e-3, 'dev': 'cuda'\n",
        "  },\n",
        "  'ppo': {\n",
        "    'lr': 3e-4, 'dev': 'cpu'\n",
        "  },\n",
        "  'sac': {\n",
        "    'lr': 3e-4, 'dev': 'cuda'\n",
        "  },\n",
        "  'td3': {\n",
        "    'lr': 1e-3, 'dev': 'cuda'\n",
        "  }\n",
        "}\n",
        "\n",
        "n_timestep = 3_000_000\n",
        "save_freq = min(100_000, int(n_timestep / 10))\n",
        "eval_freq = min(200_000, int(n_timestep / 10))\n",
        "max_episode_steps = 1000\n",
        "wrapper = [{\"gymnasium.wrappers.TimeLimit\": {\"max_episode_steps\": max_episode_steps}}]\n",
        "n_envs = 20\n",
        "n_eval_envs = 3\n",
        "eval_episodes = 30\n",
        "\n",
        "# weights\n",
        "keep_alive_weight = 1.0\n",
        "control_weight = 0.00 #1e-3\n",
        "target_distance = 100.0\n",
        "velocity_weight = 0.00 #3.0\n",
        "reach_target_reward = 100.0\n",
        "knee_flex_weight = 0.00 #1e-3\n",
        "feet_up_weight = 0.00 #1e-3\n",
        "feet_misalign_weight = 0.00 #0.5\n",
        "max_timestep = 800\n",
        "\n",
        "for algo, value in algos.items():\n",
        "  print('Training:', algo)\n",
        "  config = f'research_config/{algo}.yml'\n",
        "  best = os.path.join(to_load_path, algo, 'best_model.zip')\n",
        "  if not os.path.exists(best):\n",
        "    best = ''\n",
        "  else:\n",
        "    best = f'-i \"{best}\"'\n",
        "\n",
        "  train_cmd = f'python3 train.py --algo {algo} --env DarwinOp3-v3 -conf {config} \\\n",
        "-f \"{log_dir}\" --tensorboard-log \"{tf_log_dir}\" --save-freq {save_freq} \\\n",
        "--vec-env subproc --eval-freq {eval_freq} --n-eval-envs {n_eval_envs} --eval-episodes {eval_episodes} \\\n",
        "--env-kwargs keep_alive_weight:{keep_alive_weight} control_weight:{control_weight} \\\n",
        "target_distance:{target_distance} velocity_weight:{velocity_weight} \\\n",
        "reach_target_reward:{reach_target_reward} knee_flex_weight:{knee_flex_weight} \\\n",
        "feet_up_weight:{feet_up_weight} feet_misalign_weight:{feet_misalign_weight} \\\n",
        "max_timestep:{max_timestep} --hyperparams n_envs:{n_envs} learning_rate:{value[\"lr\"]} \\\n",
        "n_timesteps:{n_timestep} env_wrapper:\"{wrapper}\" --device {value[\"dev\"]} {best} -P'\n",
        "\n",
        "  print(train_cmd)\n",
        "  !{train_cmd}\n",
        "\n",
        "  video_cmd = f'python3 -m rl_zoo3.record_video --algo {algo} \\\n",
        "--env DarwinOp3-v3 -n 3000 --load-best -o \"{log_dir}\" -f \"{log_dir}\"'\n",
        "  print(video_cmd)\n",
        "  !{video_cmd}\n"
      ]
    }
  ],
  "metadata": {
    "accelerator": "GPU",
    "colab": {
      "gpuType": "T4",
      "machine_shape": "hm",
      "provenance": []
    },
    "kernelspec": {
      "display_name": "Python 3",
      "name": "python3"
    },
    "language_info": {
      "name": "python"
    }
  },
  "nbformat": 4,
  "nbformat_minor": 0
}