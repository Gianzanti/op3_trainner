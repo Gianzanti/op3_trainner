{
  "cells": [
    {
      "cell_type": "code",
      "execution_count": 1,
      "metadata": {
        "id": "hvoxQZdF4G2E"
      },
      "outputs": [],
      "source": [
        "current_step = 'step_001'"
      ]
    },
    {
      "cell_type": "code",
      "execution_count": 2,
      "metadata": {
        "colab": {
          "base_uri": "https://localhost:8080/"
        },
        "collapsed": true,
        "id": "K3asHLR1_a5J",
        "outputId": "aa4fad14-b11c-4416-afa0-51f1de5db7a1"
      },
      "outputs": [
        {
          "output_type": "stream",
          "name": "stdout",
          "text": [
            "Reading package lists... Done\n",
            "Building dependency tree... Done\n",
            "Reading state information... Done\n",
            "cmake is already the newest version (3.22.1-1ubuntu1.22.04.2).\n",
            "ffmpeg is already the newest version (7:4.4.2-0ubuntu0.22.04.1).\n",
            "xvfb is already the newest version (2:21.1.4-2ubuntu1.7~22.04.15).\n",
            "Suggested packages:\n",
            "  libgle3 python3-numpy python3-tk swig-doc swig-examples swig4.0-examples\n",
            "  swig4.0-doc\n",
            "The following NEW packages will be installed:\n",
            "  freeglut3 libglu1-mesa python3-opengl swig swig4.0\n",
            "0 upgraded, 5 newly installed, 0 to remove and 35 not upgraded.\n",
            "Need to get 1,940 kB of archives.\n",
            "After this operation, 13.6 MB of additional disk space will be used.\n",
            "Get:1 http://archive.ubuntu.com/ubuntu jammy/universe amd64 freeglut3 amd64 2.8.1-6 [74.0 kB]\n",
            "Get:2 http://archive.ubuntu.com/ubuntu jammy/main amd64 libglu1-mesa amd64 9.0.2-1 [145 kB]\n",
            "Get:3 http://archive.ubuntu.com/ubuntu jammy/universe amd64 python3-opengl all 3.1.5+dfsg-1 [605 kB]\n",
            "Get:4 http://archive.ubuntu.com/ubuntu jammy/universe amd64 swig4.0 amd64 4.0.2-1ubuntu1 [1,110 kB]\n",
            "Get:5 http://archive.ubuntu.com/ubuntu jammy/universe amd64 swig all 4.0.2-1ubuntu1 [5,632 B]\n",
            "Fetched 1,940 kB in 3s (747 kB/s)\n",
            "Selecting previously unselected package freeglut3:amd64.\n",
            "(Reading database ... 126374 files and directories currently installed.)\n",
            "Preparing to unpack .../freeglut3_2.8.1-6_amd64.deb ...\n",
            "Unpacking freeglut3:amd64 (2.8.1-6) ...\n",
            "Selecting previously unselected package libglu1-mesa:amd64.\n",
            "Preparing to unpack .../libglu1-mesa_9.0.2-1_amd64.deb ...\n",
            "Unpacking libglu1-mesa:amd64 (9.0.2-1) ...\n",
            "Selecting previously unselected package python3-opengl.\n",
            "Preparing to unpack .../python3-opengl_3.1.5+dfsg-1_all.deb ...\n",
            "Unpacking python3-opengl (3.1.5+dfsg-1) ...\n",
            "Selecting previously unselected package swig4.0.\n",
            "Preparing to unpack .../swig4.0_4.0.2-1ubuntu1_amd64.deb ...\n",
            "Unpacking swig4.0 (4.0.2-1ubuntu1) ...\n",
            "Selecting previously unselected package swig.\n",
            "Preparing to unpack .../swig_4.0.2-1ubuntu1_all.deb ...\n",
            "Unpacking swig (4.0.2-1ubuntu1) ...\n",
            "Setting up freeglut3:amd64 (2.8.1-6) ...\n",
            "Setting up libglu1-mesa:amd64 (9.0.2-1) ...\n",
            "Setting up swig4.0 (4.0.2-1ubuntu1) ...\n",
            "Setting up swig (4.0.2-1ubuntu1) ...\n",
            "Setting up python3-opengl (3.1.5+dfsg-1) ...\n",
            "Processing triggers for libc-bin (2.35-0ubuntu3.8) ...\n",
            "/sbin/ldconfig.real: /usr/local/lib/libur_adapter_opencl.so.0 is not a symbolic link\n",
            "\n",
            "/sbin/ldconfig.real: /usr/local/lib/libtbbmalloc.so.2 is not a symbolic link\n",
            "\n",
            "/sbin/ldconfig.real: /usr/local/lib/libtbbbind.so.3 is not a symbolic link\n",
            "\n",
            "/sbin/ldconfig.real: /usr/local/lib/libtbbbind_2_5.so.3 is not a symbolic link\n",
            "\n",
            "/sbin/ldconfig.real: /usr/local/lib/libtcm.so.1 is not a symbolic link\n",
            "\n",
            "/sbin/ldconfig.real: /usr/local/lib/libtbbmalloc_proxy.so.2 is not a symbolic link\n",
            "\n",
            "/sbin/ldconfig.real: /usr/local/lib/libtbbbind_2_0.so.3 is not a symbolic link\n",
            "\n",
            "/sbin/ldconfig.real: /usr/local/lib/libur_adapter_level_zero.so.0 is not a symbolic link\n",
            "\n",
            "/sbin/ldconfig.real: /usr/local/lib/libumf.so.0 is not a symbolic link\n",
            "\n",
            "/sbin/ldconfig.real: /usr/local/lib/libtcm_debug.so.1 is not a symbolic link\n",
            "\n",
            "/sbin/ldconfig.real: /usr/local/lib/libur_loader.so.0 is not a symbolic link\n",
            "\n",
            "/sbin/ldconfig.real: /usr/local/lib/libhwloc.so.15 is not a symbolic link\n",
            "\n",
            "/sbin/ldconfig.real: /usr/local/lib/libur_adapter_level_zero_v2.so.0 is not a symbolic link\n",
            "\n",
            "/sbin/ldconfig.real: /usr/local/lib/libtbb.so.12 is not a symbolic link\n",
            "\n",
            "Processing triggers for man-db (2.10.2-1) ...\n",
            "Collecting pyvirtualdisplay\n",
            "  Downloading PyVirtualDisplay-3.0-py3-none-any.whl.metadata (943 bytes)\n",
            "Requirement already satisfied: imageio[ffmpeg] in /usr/local/lib/python3.12/dist-packages (2.37.0)\n",
            "Requirement already satisfied: numpy in /usr/local/lib/python3.12/dist-packages (from imageio[ffmpeg]) (2.0.2)\n",
            "Requirement already satisfied: pillow>=8.3.2 in /usr/local/lib/python3.12/dist-packages (from imageio[ffmpeg]) (11.3.0)\n",
            "Requirement already satisfied: imageio-ffmpeg in /usr/local/lib/python3.12/dist-packages (from imageio[ffmpeg]) (0.6.0)\n",
            "Requirement already satisfied: psutil in /usr/local/lib/python3.12/dist-packages (from imageio[ffmpeg]) (5.9.5)\n",
            "Downloading PyVirtualDisplay-3.0-py3-none-any.whl (15 kB)\n",
            "Installing collected packages: pyvirtualdisplay\n",
            "Successfully installed pyvirtualdisplay-3.0\n"
          ]
        }
      ],
      "source": [
        "!apt install swig cmake ffmpeg xvfb python3-opengl\n",
        "!pip install pyvirtualdisplay imageio[ffmpeg]"
      ]
    },
    {
      "cell_type": "code",
      "execution_count": 3,
      "metadata": {
        "colab": {
          "base_uri": "https://localhost:8080/"
        },
        "collapsed": true,
        "id": "V5Uw6AIK_eBr",
        "outputId": "1d46ede5-6935-484b-f448-bc90670b2d76"
      },
      "outputs": [
        {
          "output_type": "stream",
          "name": "stdout",
          "text": [
            "env: MUJOCO_GL=egl\n"
          ]
        },
        {
          "output_type": "execute_result",
          "data": {
            "text/plain": [
              "<pyvirtualdisplay.display.Display at 0x789de5fa3e00>"
            ]
          },
          "metadata": {},
          "execution_count": 3
        }
      ],
      "source": [
        "import os\n",
        "\n",
        "NVIDIA_ICD_CONFIG_PATH = '/usr/share/glvnd/egl_vendor.d/10_nvidia.json'\n",
        "if not os.path.exists(NVIDIA_ICD_CONFIG_PATH):\n",
        "  with open(NVIDIA_ICD_CONFIG_PATH, 'w') as f:\n",
        "    f.write(\"\"\"{\n",
        "    \"file_format_version\" : \"1.0.0\",\n",
        "    \"ICD\" : {\n",
        "        \"library_path\" : \"libEGL_nvidia.so.0\"\n",
        "    }\n",
        "}\n",
        "\"\"\")\n",
        "\n",
        "%env MUJOCO_GL=egl\n",
        "\n",
        "from pyvirtualdisplay import Display\n",
        "virtual_display = Display(visible=0, size=(1920, 1080))\n",
        "virtual_display.start()"
      ]
    },
    {
      "cell_type": "code",
      "execution_count": 4,
      "metadata": {
        "colab": {
          "base_uri": "https://localhost:8080/"
        },
        "collapsed": true,
        "id": "dZAbUian_NS7",
        "outputId": "d72d56fe-634b-424a-c0e7-640ec5b3f65a"
      },
      "outputs": [
        {
          "output_type": "stream",
          "name": "stdout",
          "text": [
            "Mounted at /content/drive\n",
            "WorkDir: /content/drive/My Drive/OP3_TRAINNING/step_001\n",
            "LogDir: /content/drive/My Drive/OP3_TRAINNING/step_001/20250907-195642\n",
            "TfLogDir: /content/drive/My Drive/OP3_TRAINNING/step_001/20250907-195642/tensorboard_logs\n",
            "to_load_path: /content/drive/My Drive/OP3_TRAINNING/step_001/best\n",
            "AlgoLoadPath: /content/drive/My Drive/OP3_TRAINNING/step_001/best/a2c\n",
            "AlgoLoadPath: /content/drive/My Drive/OP3_TRAINNING/step_001/best/ddpg\n",
            "AlgoLoadPath: /content/drive/My Drive/OP3_TRAINNING/step_001/best/ppo\n",
            "AlgoLoadPath: /content/drive/My Drive/OP3_TRAINNING/step_001/best/sac\n",
            "AlgoLoadPath: /content/drive/My Drive/OP3_TRAINNING/step_001/best/td3\n"
          ]
        }
      ],
      "source": [
        "# Prepare to load data from google drive\n",
        "from google.colab import drive\n",
        "import datetime\n",
        "\n",
        "# CONNECT TO GOOGLE DRIVE\n",
        "gdrive_path = '/content/drive'\n",
        "drive.mount(gdrive_path)\n",
        "\n",
        "# DEFINE WORK DIRECTORY\n",
        "workDir = os.path.join(gdrive_path, 'My Drive', 'OP3_TRAINNING', current_step)\n",
        "print('WorkDir:', workDir)\n",
        "\n",
        "log_dir = os.path.join(workDir, datetime.datetime.now().strftime(\"%Y%m%d-%H%M%S\"))\n",
        "print('LogDir:', log_dir)\n",
        "\n",
        "# create folder if it doesn't exists\n",
        "if not os.path.exists(log_dir):\n",
        "  os.makedirs(log_dir)\n",
        "\n",
        "tf_log_dir = os.path.join(log_dir, 'tensorboard_logs')\n",
        "print('TfLogDir:', tf_log_dir)\n",
        "\n",
        "# create folder if it doesn't exists\n",
        "if not os.path.exists(tf_log_dir):\n",
        "  os.makedirs(tf_log_dir)\n",
        "\n",
        "# best models\n",
        "to_load_path = os.path.join(workDir, 'best')\n",
        "print('to_load_path:', to_load_path)\n",
        "algos = [\"a2c\", \"ddpg\", \"ppo\", \"sac\", \"td3\"]\n",
        "for algo in algos:\n",
        "  algo_load_path = os.path.join(to_load_path, algo)\n",
        "  print('AlgoLoadPath:', algo_load_path)\n",
        "  if not os.path.exists(algo_load_path):\n",
        "    os.makedirs(algo_load_path)"
      ]
    },
    {
      "cell_type": "code",
      "execution_count": 5,
      "metadata": {
        "collapsed": true,
        "id": "3Q0XgJntGtLW"
      },
      "outputs": [],
      "source": [
        "# clean content folder\n",
        "import os\n",
        "import shutil\n",
        "\n",
        "# location\n",
        "location = \"/content\"\n",
        "\n",
        "# directories\n",
        "dirs = [\"sample_data\"]\n",
        "\n",
        "for dir in dirs:\n",
        "    path = os.path.join(location, dir)\n",
        "    try:\n",
        "        shutil.rmtree(path)\n",
        "    except OSError as e:\n",
        "        print(\"Error: %s : %s\" % (path, e.strerror))"
      ]
    },
    {
      "cell_type": "code",
      "execution_count": 7,
      "metadata": {
        "colab": {
          "base_uri": "https://localhost:8080/"
        },
        "collapsed": true,
        "id": "ediC96n-xI2A",
        "outputId": "555d029c-9b44-4970-f63d-c284b1ff4519"
      },
      "outputs": [
        {
          "output_type": "stream",
          "name": "stdout",
          "text": [
            "/\n",
            "The directory '/content/op3' does not exist - git clone\n",
            "Cloning into '/content/op3'...\n",
            "remote: Enumerating objects: 96, done.\u001b[K\n",
            "remote: Counting objects: 100% (96/96), done.\u001b[K\n",
            "remote: Compressing objects: 100% (77/77), done.\u001b[K\n",
            "remote: Total 96 (delta 15), reused 96 (delta 15), pack-reused 0 (from 0)\u001b[K\n",
            "Receiving objects: 100% (96/96), 14.60 MiB | 19.81 MiB/s, done.\n",
            "Resolving deltas: 100% (15/15), done.\n"
          ]
        }
      ],
      "source": [
        "# Install Darwin Model\n",
        "model_path = '/content/op3'\n",
        "%cd /\n",
        "\n",
        "if os.path.isdir(model_path):\n",
        "  print(f\"The directory '{model_path}' exists - git pull\")\n",
        "  %cd {model_path}\n",
        "  !git pull\n",
        "else:\n",
        "  print(f\"The directory '{model_path}' does not exist - git clone\")\n",
        "  !git clone https://github.com/Gianzanti/op3_model.git {model_path}\n"
      ]
    },
    {
      "cell_type": "code",
      "execution_count": 8,
      "metadata": {
        "colab": {
          "base_uri": "https://localhost:8080/"
        },
        "collapsed": true,
        "id": "IQwSCDW1xRgF",
        "outputId": "96afcb89-995c-424d-9ccb-e5db372c40b1"
      },
      "outputs": [
        {
          "output_type": "stream",
          "name": "stdout",
          "text": [
            "/\n",
            "Obtaining file:///content/op3\n",
            "  Installing build dependencies ... \u001b[?25l\u001b[?25hdone\n",
            "  Checking if build backend supports build_editable ... \u001b[?25l\u001b[?25hdone\n",
            "  Getting requirements to build editable ... \u001b[?25l\u001b[?25hdone\n",
            "  Preparing editable metadata (pyproject.toml) ... \u001b[?25l\u001b[?25hdone\n",
            "Requirement already satisfied: gymnasium>=1.2.0 in /usr/local/lib/python3.12/dist-packages (from op3==0.1.6) (1.2.0)\n",
            "Requirement already satisfied: imageio>=2.37.0 in /usr/local/lib/python3.12/dist-packages (from op3==0.1.6) (2.37.0)\n",
            "Collecting mujoco>=3.3.5 (from op3==0.1.6)\n",
            "  Downloading mujoco-3.3.5-cp312-cp312-manylinux_2_27_x86_64.manylinux_2_28_x86_64.whl.metadata (41 kB)\n",
            "\u001b[2K     \u001b[90m━━━━━━━━━━━━━━━━━━━━━━━━━━━━━━━━━━━━━━━━\u001b[0m \u001b[32m42.0/42.0 kB\u001b[0m \u001b[31m1.2 MB/s\u001b[0m eta \u001b[36m0:00:00\u001b[0m\n",
            "\u001b[?25hCollecting stable-baselines3 (from op3==0.1.6)\n",
            "  Downloading stable_baselines3-2.7.0-py3-none-any.whl.metadata (4.8 kB)\n",
            "Requirement already satisfied: numpy>=1.21.0 in /usr/local/lib/python3.12/dist-packages (from gymnasium>=1.2.0->op3==0.1.6) (2.0.2)\n",
            "Requirement already satisfied: cloudpickle>=1.2.0 in /usr/local/lib/python3.12/dist-packages (from gymnasium>=1.2.0->op3==0.1.6) (3.1.1)\n",
            "Requirement already satisfied: typing-extensions>=4.3.0 in /usr/local/lib/python3.12/dist-packages (from gymnasium>=1.2.0->op3==0.1.6) (4.15.0)\n",
            "Requirement already satisfied: farama-notifications>=0.0.1 in /usr/local/lib/python3.12/dist-packages (from gymnasium>=1.2.0->op3==0.1.6) (0.0.4)\n",
            "Requirement already satisfied: pillow>=8.3.2 in /usr/local/lib/python3.12/dist-packages (from imageio>=2.37.0->op3==0.1.6) (11.3.0)\n",
            "Requirement already satisfied: absl-py in /usr/local/lib/python3.12/dist-packages (from mujoco>=3.3.5->op3==0.1.6) (1.4.0)\n",
            "Requirement already satisfied: etils[epath] in /usr/local/lib/python3.12/dist-packages (from mujoco>=3.3.5->op3==0.1.6) (1.13.0)\n",
            "Collecting glfw (from mujoco>=3.3.5->op3==0.1.6)\n",
            "  Downloading glfw-2.9.0-py2.py27.py3.py30.py31.py32.py33.py34.py35.py36.py37.py38.p39.p310.p311.p312.p313-none-manylinux_2_28_x86_64.whl.metadata (5.4 kB)\n",
            "Requirement already satisfied: pyopengl in /usr/local/lib/python3.12/dist-packages (from mujoco>=3.3.5->op3==0.1.6) (3.1.10)\n",
            "Requirement already satisfied: torch<3.0,>=2.3 in /usr/local/lib/python3.12/dist-packages (from stable-baselines3->op3==0.1.6) (2.8.0+cu126)\n",
            "Requirement already satisfied: pandas in /usr/local/lib/python3.12/dist-packages (from stable-baselines3->op3==0.1.6) (2.2.2)\n",
            "Requirement already satisfied: matplotlib in /usr/local/lib/python3.12/dist-packages (from stable-baselines3->op3==0.1.6) (3.10.0)\n",
            "Requirement already satisfied: filelock in /usr/local/lib/python3.12/dist-packages (from torch<3.0,>=2.3->stable-baselines3->op3==0.1.6) (3.19.1)\n",
            "Requirement already satisfied: setuptools in /usr/local/lib/python3.12/dist-packages (from torch<3.0,>=2.3->stable-baselines3->op3==0.1.6) (75.2.0)\n",
            "Requirement already satisfied: sympy>=1.13.3 in /usr/local/lib/python3.12/dist-packages (from torch<3.0,>=2.3->stable-baselines3->op3==0.1.6) (1.13.3)\n",
            "Requirement already satisfied: networkx in /usr/local/lib/python3.12/dist-packages (from torch<3.0,>=2.3->stable-baselines3->op3==0.1.6) (3.5)\n",
            "Requirement already satisfied: jinja2 in /usr/local/lib/python3.12/dist-packages (from torch<3.0,>=2.3->stable-baselines3->op3==0.1.6) (3.1.6)\n",
            "Requirement already satisfied: fsspec in /usr/local/lib/python3.12/dist-packages (from torch<3.0,>=2.3->stable-baselines3->op3==0.1.6) (2025.3.0)\n",
            "Requirement already satisfied: nvidia-cuda-nvrtc-cu12==12.6.77 in /usr/local/lib/python3.12/dist-packages (from torch<3.0,>=2.3->stable-baselines3->op3==0.1.6) (12.6.77)\n",
            "Requirement already satisfied: nvidia-cuda-runtime-cu12==12.6.77 in /usr/local/lib/python3.12/dist-packages (from torch<3.0,>=2.3->stable-baselines3->op3==0.1.6) (12.6.77)\n",
            "Requirement already satisfied: nvidia-cuda-cupti-cu12==12.6.80 in /usr/local/lib/python3.12/dist-packages (from torch<3.0,>=2.3->stable-baselines3->op3==0.1.6) (12.6.80)\n",
            "Requirement already satisfied: nvidia-cudnn-cu12==9.10.2.21 in /usr/local/lib/python3.12/dist-packages (from torch<3.0,>=2.3->stable-baselines3->op3==0.1.6) (9.10.2.21)\n",
            "Requirement already satisfied: nvidia-cublas-cu12==12.6.4.1 in /usr/local/lib/python3.12/dist-packages (from torch<3.0,>=2.3->stable-baselines3->op3==0.1.6) (12.6.4.1)\n",
            "Requirement already satisfied: nvidia-cufft-cu12==11.3.0.4 in /usr/local/lib/python3.12/dist-packages (from torch<3.0,>=2.3->stable-baselines3->op3==0.1.6) (11.3.0.4)\n",
            "Requirement already satisfied: nvidia-curand-cu12==10.3.7.77 in /usr/local/lib/python3.12/dist-packages (from torch<3.0,>=2.3->stable-baselines3->op3==0.1.6) (10.3.7.77)\n",
            "Requirement already satisfied: nvidia-cusolver-cu12==11.7.1.2 in /usr/local/lib/python3.12/dist-packages (from torch<3.0,>=2.3->stable-baselines3->op3==0.1.6) (11.7.1.2)\n",
            "Requirement already satisfied: nvidia-cusparse-cu12==12.5.4.2 in /usr/local/lib/python3.12/dist-packages (from torch<3.0,>=2.3->stable-baselines3->op3==0.1.6) (12.5.4.2)\n",
            "Requirement already satisfied: nvidia-cusparselt-cu12==0.7.1 in /usr/local/lib/python3.12/dist-packages (from torch<3.0,>=2.3->stable-baselines3->op3==0.1.6) (0.7.1)\n",
            "Requirement already satisfied: nvidia-nccl-cu12==2.27.3 in /usr/local/lib/python3.12/dist-packages (from torch<3.0,>=2.3->stable-baselines3->op3==0.1.6) (2.27.3)\n",
            "Requirement already satisfied: nvidia-nvtx-cu12==12.6.77 in /usr/local/lib/python3.12/dist-packages (from torch<3.0,>=2.3->stable-baselines3->op3==0.1.6) (12.6.77)\n",
            "Requirement already satisfied: nvidia-nvjitlink-cu12==12.6.85 in /usr/local/lib/python3.12/dist-packages (from torch<3.0,>=2.3->stable-baselines3->op3==0.1.6) (12.6.85)\n",
            "Requirement already satisfied: nvidia-cufile-cu12==1.11.1.6 in /usr/local/lib/python3.12/dist-packages (from torch<3.0,>=2.3->stable-baselines3->op3==0.1.6) (1.11.1.6)\n",
            "Requirement already satisfied: triton==3.4.0 in /usr/local/lib/python3.12/dist-packages (from torch<3.0,>=2.3->stable-baselines3->op3==0.1.6) (3.4.0)\n",
            "Requirement already satisfied: importlib_resources in /usr/local/lib/python3.12/dist-packages (from etils[epath]->mujoco>=3.3.5->op3==0.1.6) (6.5.2)\n",
            "Requirement already satisfied: zipp in /usr/local/lib/python3.12/dist-packages (from etils[epath]->mujoco>=3.3.5->op3==0.1.6) (3.23.0)\n",
            "Requirement already satisfied: contourpy>=1.0.1 in /usr/local/lib/python3.12/dist-packages (from matplotlib->stable-baselines3->op3==0.1.6) (1.3.3)\n",
            "Requirement already satisfied: cycler>=0.10 in /usr/local/lib/python3.12/dist-packages (from matplotlib->stable-baselines3->op3==0.1.6) (0.12.1)\n",
            "Requirement already satisfied: fonttools>=4.22.0 in /usr/local/lib/python3.12/dist-packages (from matplotlib->stable-baselines3->op3==0.1.6) (4.59.2)\n",
            "Requirement already satisfied: kiwisolver>=1.3.1 in /usr/local/lib/python3.12/dist-packages (from matplotlib->stable-baselines3->op3==0.1.6) (1.4.9)\n",
            "Requirement already satisfied: packaging>=20.0 in /usr/local/lib/python3.12/dist-packages (from matplotlib->stable-baselines3->op3==0.1.6) (25.0)\n",
            "Requirement already satisfied: pyparsing>=2.3.1 in /usr/local/lib/python3.12/dist-packages (from matplotlib->stable-baselines3->op3==0.1.6) (3.2.3)\n",
            "Requirement already satisfied: python-dateutil>=2.7 in /usr/local/lib/python3.12/dist-packages (from matplotlib->stable-baselines3->op3==0.1.6) (2.9.0.post0)\n",
            "Requirement already satisfied: pytz>=2020.1 in /usr/local/lib/python3.12/dist-packages (from pandas->stable-baselines3->op3==0.1.6) (2025.2)\n",
            "Requirement already satisfied: tzdata>=2022.7 in /usr/local/lib/python3.12/dist-packages (from pandas->stable-baselines3->op3==0.1.6) (2025.2)\n",
            "Requirement already satisfied: six>=1.5 in /usr/local/lib/python3.12/dist-packages (from python-dateutil>=2.7->matplotlib->stable-baselines3->op3==0.1.6) (1.17.0)\n",
            "Requirement already satisfied: mpmath<1.4,>=1.1.0 in /usr/local/lib/python3.12/dist-packages (from sympy>=1.13.3->torch<3.0,>=2.3->stable-baselines3->op3==0.1.6) (1.3.0)\n",
            "Requirement already satisfied: MarkupSafe>=2.0 in /usr/local/lib/python3.12/dist-packages (from jinja2->torch<3.0,>=2.3->stable-baselines3->op3==0.1.6) (3.0.2)\n",
            "Downloading mujoco-3.3.5-cp312-cp312-manylinux_2_27_x86_64.manylinux_2_28_x86_64.whl (6.7 MB)\n",
            "\u001b[2K   \u001b[90m━━━━━━━━━━━━━━━━━━━━━━━━━━━━━━━━━━━━━━━━\u001b[0m \u001b[32m6.7/6.7 MB\u001b[0m \u001b[31m42.5 MB/s\u001b[0m eta \u001b[36m0:00:00\u001b[0m\n",
            "\u001b[?25hDownloading stable_baselines3-2.7.0-py3-none-any.whl (187 kB)\n",
            "\u001b[2K   \u001b[90m━━━━━━━━━━━━━━━━━━━━━━━━━━━━━━━━━━━━━━━━\u001b[0m \u001b[32m187.2/187.2 kB\u001b[0m \u001b[31m23.2 MB/s\u001b[0m eta \u001b[36m0:00:00\u001b[0m\n",
            "\u001b[?25hDownloading glfw-2.9.0-py2.py27.py3.py30.py31.py32.py33.py34.py35.py36.py37.py38.p39.p310.p311.p312.p313-none-manylinux_2_28_x86_64.whl (243 kB)\n",
            "\u001b[2K   \u001b[90m━━━━━━━━━━━━━━━━━━━━━━━━━━━━━━━━━━━━━━━━\u001b[0m \u001b[32m243.5/243.5 kB\u001b[0m \u001b[31m30.1 MB/s\u001b[0m eta \u001b[36m0:00:00\u001b[0m\n",
            "\u001b[?25hBuilding wheels for collected packages: op3\n",
            "  Building editable for op3 (pyproject.toml) ... \u001b[?25l\u001b[?25hdone\n",
            "  Created wheel for op3: filename=op3-0.1.6-py3-none-any.whl size=1146 sha256=4fa65e1c74dd675d99b100f1b3e425fb059cfb0ce705b7d35932d4404f36e15b\n",
            "  Stored in directory: /tmp/pip-ephem-wheel-cache-34_7wtxn/wheels/6e/41/34/9ebb5c3b64ee3d5f174ea5b433d00e8f3478f5497c112a46b1\n",
            "Successfully built op3\n",
            "Installing collected packages: glfw, mujoco, stable-baselines3, op3\n",
            "Successfully installed glfw-2.9.0 mujoco-3.3.5 op3-0.1.6 stable-baselines3-2.7.0\n"
          ]
        }
      ],
      "source": [
        "%cd /\n",
        "!pip install -e {model_path}"
      ]
    },
    {
      "cell_type": "code",
      "execution_count": 11,
      "metadata": {
        "colab": {
          "base_uri": "https://localhost:8080/"
        },
        "collapsed": true,
        "id": "GsDs_ja7xW9G",
        "outputId": "4f3cba30-3e1b-4013-c242-6d1d662b7329"
      },
      "outputs": [
        {
          "output_type": "stream",
          "name": "stdout",
          "text": [
            "/\n",
            "The directory '/content/rl-zoo' exists - git pull\n",
            "/content/rl-zoo\n",
            "remote: Enumerating objects: 21, done.\u001b[K\n",
            "remote: Counting objects: 100% (21/21), done.\u001b[K\n",
            "remote: Compressing objects: 100% (1/1), done.\u001b[K\n",
            "remote: Total 11 (delta 10), reused 11 (delta 10), pack-reused 0 (from 0)\u001b[K\n",
            "Unpacking objects: 100% (11/11), 1.11 KiB | 567.00 KiB/s, done.\n",
            "From https://github.com/Gianzanti/rl-zoo\n",
            "   6e40371..24f6dbc  master     -> origin/master\n",
            "Updating 6e40371..24f6dbc\n",
            "Fast-forward\n",
            " research_config/a2c.yml  |  8 \u001b[32m++++\u001b[m\u001b[31m----\u001b[m\n",
            " research_config/ddpg.yml |  8 \u001b[32m++++\u001b[m\u001b[31m----\u001b[m\n",
            " research_config/ppo.yml  | 14 \u001b[32m+++++++\u001b[m\u001b[31m-------\u001b[m\n",
            " research_config/sac.yml  |  8 \u001b[32m++++\u001b[m\u001b[31m----\u001b[m\n",
            " research_config/td3.yml  | 10 \u001b[32m+++++\u001b[m\u001b[31m-----\u001b[m\n",
            " rl_zoo3/import_envs.py   | 10 \u001b[32m++++++++\u001b[m\u001b[31m--\u001b[m\n",
            " train_ppo.sh             |  2 \u001b[32m+\u001b[m\u001b[31m-\u001b[m\n",
            " 7 files changed, 33 insertions(+), 27 deletions(-)\n"
          ]
        }
      ],
      "source": [
        "# Install RL Zoo\n",
        "trainner_path = '/content/rl-zoo'\n",
        "%cd /\n",
        "\n",
        "if os.path.isdir(trainner_path):\n",
        "  print(f\"The directory '{trainner_path}' exists - git pull\")\n",
        "  %cd {trainner_path}\n",
        "  !git pull\n",
        "else:\n",
        "  print(f\"The directory '{trainner_path}' does not exist - git clone\")\n",
        "  !git clone https://github.com/Gianzanti/rl-zoo.git {trainner_path}\n"
      ]
    },
    {
      "cell_type": "code",
      "execution_count": 12,
      "metadata": {
        "colab": {
          "base_uri": "https://localhost:8080/"
        },
        "collapsed": true,
        "id": "a0CKEYmH0y6v",
        "outputId": "faffd1b2-1379-4306-990b-6a1a82e08211"
      },
      "outputs": [
        {
          "output_type": "stream",
          "name": "stdout",
          "text": [
            "/\n",
            "Obtaining file:///content/rl-zoo\n",
            "  Installing build dependencies ... \u001b[?25l\u001b[?25hdone\n",
            "  Checking if build backend supports build_editable ... \u001b[?25l\u001b[?25hdone\n",
            "  Getting requirements to build editable ... \u001b[?25l\u001b[?25hdone\n",
            "  Preparing editable metadata (pyproject.toml) ... \u001b[?25l\u001b[?25hdone\n",
            "Requirement already satisfied: sb3_contrib<3.0,>=2.7.0 in /usr/local/lib/python3.12/dist-packages (from rl_zoo3==2.7.0) (2.7.0)\n",
            "Requirement already satisfied: gymnasium<1.3.0,>=0.29.1 in /usr/local/lib/python3.12/dist-packages (from rl_zoo3==2.7.0) (1.2.0)\n",
            "Requirement already satisfied: huggingface_sb3<4.0,>=3.0 in /usr/local/lib/python3.12/dist-packages (from rl_zoo3==2.7.0) (3.0)\n",
            "Requirement already satisfied: tqdm in /usr/local/lib/python3.12/dist-packages (from rl_zoo3==2.7.0) (4.67.1)\n",
            "Requirement already satisfied: rich in /usr/local/lib/python3.12/dist-packages (from rl_zoo3==2.7.0) (13.9.4)\n",
            "Requirement already satisfied: optuna>=3.0 in /usr/local/lib/python3.12/dist-packages (from rl_zoo3==2.7.0) (4.5.0)\n",
            "Requirement already satisfied: pyyaml>=5.1 in /usr/local/lib/python3.12/dist-packages (from rl_zoo3==2.7.0) (6.0.2)\n",
            "Requirement already satisfied: pytablewriter~=1.2 in /usr/local/lib/python3.12/dist-packages (from rl_zoo3==2.7.0) (1.2.1)\n",
            "Requirement already satisfied: shimmy~=2.0 in /usr/local/lib/python3.12/dist-packages (from rl_zoo3==2.7.0) (2.0.0)\n",
            "Requirement already satisfied: numpy>=1.21.0 in /usr/local/lib/python3.12/dist-packages (from gymnasium<1.3.0,>=0.29.1->rl_zoo3==2.7.0) (2.0.2)\n",
            "Requirement already satisfied: cloudpickle>=1.2.0 in /usr/local/lib/python3.12/dist-packages (from gymnasium<1.3.0,>=0.29.1->rl_zoo3==2.7.0) (3.1.1)\n",
            "Requirement already satisfied: typing-extensions>=4.3.0 in /usr/local/lib/python3.12/dist-packages (from gymnasium<1.3.0,>=0.29.1->rl_zoo3==2.7.0) (4.15.0)\n",
            "Requirement already satisfied: farama-notifications>=0.0.1 in /usr/local/lib/python3.12/dist-packages (from gymnasium<1.3.0,>=0.29.1->rl_zoo3==2.7.0) (0.0.4)\n",
            "Requirement already satisfied: huggingface-hub~=0.8 in /usr/local/lib/python3.12/dist-packages (from huggingface_sb3<4.0,>=3.0->rl_zoo3==2.7.0) (0.34.4)\n",
            "Requirement already satisfied: wasabi in /usr/local/lib/python3.12/dist-packages (from huggingface_sb3<4.0,>=3.0->rl_zoo3==2.7.0) (1.1.3)\n",
            "Requirement already satisfied: alembic>=1.5.0 in /usr/local/lib/python3.12/dist-packages (from optuna>=3.0->rl_zoo3==2.7.0) (1.16.5)\n",
            "Requirement already satisfied: colorlog in /usr/local/lib/python3.12/dist-packages (from optuna>=3.0->rl_zoo3==2.7.0) (6.9.0)\n",
            "Requirement already satisfied: packaging>=20.0 in /usr/local/lib/python3.12/dist-packages (from optuna>=3.0->rl_zoo3==2.7.0) (25.0)\n",
            "Requirement already satisfied: sqlalchemy>=1.4.2 in /usr/local/lib/python3.12/dist-packages (from optuna>=3.0->rl_zoo3==2.7.0) (2.0.43)\n",
            "Requirement already satisfied: setuptools>=38.3.0 in /usr/local/lib/python3.12/dist-packages (from pytablewriter~=1.2->rl_zoo3==2.7.0) (75.2.0)\n",
            "Requirement already satisfied: DataProperty<2,>=1.1.0 in /usr/local/lib/python3.12/dist-packages (from pytablewriter~=1.2->rl_zoo3==2.7.0) (1.1.0)\n",
            "Requirement already satisfied: mbstrdecoder<2,>=1.0.0 in /usr/local/lib/python3.12/dist-packages (from pytablewriter~=1.2->rl_zoo3==2.7.0) (1.1.4)\n",
            "Requirement already satisfied: pathvalidate<4,>=2.3.0 in /usr/local/lib/python3.12/dist-packages (from pytablewriter~=1.2->rl_zoo3==2.7.0) (3.3.1)\n",
            "Requirement already satisfied: tabledata<2,>=1.3.1 in /usr/local/lib/python3.12/dist-packages (from pytablewriter~=1.2->rl_zoo3==2.7.0) (1.3.4)\n",
            "Requirement already satisfied: tcolorpy<1,>=0.0.5 in /usr/local/lib/python3.12/dist-packages (from pytablewriter~=1.2->rl_zoo3==2.7.0) (0.1.7)\n",
            "Requirement already satisfied: typepy<2,>=1.3.2 in /usr/local/lib/python3.12/dist-packages (from typepy[datetime]<2,>=1.3.2->pytablewriter~=1.2->rl_zoo3==2.7.0) (1.3.4)\n",
            "Requirement already satisfied: stable_baselines3<3.0,>=2.7.0 in /usr/local/lib/python3.12/dist-packages (from sb3_contrib<3.0,>=2.7.0->rl_zoo3==2.7.0) (2.7.0)\n",
            "Requirement already satisfied: markdown-it-py>=2.2.0 in /usr/local/lib/python3.12/dist-packages (from rich->rl_zoo3==2.7.0) (4.0.0)\n",
            "Requirement already satisfied: pygments<3.0.0,>=2.13.0 in /usr/local/lib/python3.12/dist-packages (from rich->rl_zoo3==2.7.0) (2.19.2)\n",
            "Requirement already satisfied: Mako in /usr/local/lib/python3.12/dist-packages (from alembic>=1.5.0->optuna>=3.0->rl_zoo3==2.7.0) (1.3.10)\n",
            "Requirement already satisfied: filelock in /usr/local/lib/python3.12/dist-packages (from huggingface-hub~=0.8->huggingface_sb3<4.0,>=3.0->rl_zoo3==2.7.0) (3.19.1)\n",
            "Requirement already satisfied: fsspec>=2023.5.0 in /usr/local/lib/python3.12/dist-packages (from huggingface-hub~=0.8->huggingface_sb3<4.0,>=3.0->rl_zoo3==2.7.0) (2025.3.0)\n",
            "Requirement already satisfied: requests in /usr/local/lib/python3.12/dist-packages (from huggingface-hub~=0.8->huggingface_sb3<4.0,>=3.0->rl_zoo3==2.7.0) (2.32.4)\n",
            "Requirement already satisfied: hf-xet<2.0.0,>=1.1.3 in /usr/local/lib/python3.12/dist-packages (from huggingface-hub~=0.8->huggingface_sb3<4.0,>=3.0->rl_zoo3==2.7.0) (1.1.9)\n",
            "Requirement already satisfied: mdurl~=0.1 in /usr/local/lib/python3.12/dist-packages (from markdown-it-py>=2.2.0->rich->rl_zoo3==2.7.0) (0.1.2)\n",
            "Requirement already satisfied: chardet<6,>=3.0.4 in /usr/local/lib/python3.12/dist-packages (from mbstrdecoder<2,>=1.0.0->pytablewriter~=1.2->rl_zoo3==2.7.0) (5.2.0)\n",
            "Requirement already satisfied: greenlet>=1 in /usr/local/lib/python3.12/dist-packages (from sqlalchemy>=1.4.2->optuna>=3.0->rl_zoo3==2.7.0) (3.2.4)\n",
            "Requirement already satisfied: torch<3.0,>=2.3 in /usr/local/lib/python3.12/dist-packages (from stable_baselines3<3.0,>=2.7.0->sb3_contrib<3.0,>=2.7.0->rl_zoo3==2.7.0) (2.8.0+cu126)\n",
            "Requirement already satisfied: pandas in /usr/local/lib/python3.12/dist-packages (from stable_baselines3<3.0,>=2.7.0->sb3_contrib<3.0,>=2.7.0->rl_zoo3==2.7.0) (2.2.2)\n",
            "Requirement already satisfied: matplotlib in /usr/local/lib/python3.12/dist-packages (from stable_baselines3<3.0,>=2.7.0->sb3_contrib<3.0,>=2.7.0->rl_zoo3==2.7.0) (3.10.0)\n",
            "Requirement already satisfied: python-dateutil<3.0.0,>=2.8.0 in /usr/local/lib/python3.12/dist-packages (from typepy[datetime]<2,>=1.3.2->pytablewriter~=1.2->rl_zoo3==2.7.0) (2.9.0.post0)\n",
            "Requirement already satisfied: pytz>=2018.9 in /usr/local/lib/python3.12/dist-packages (from typepy[datetime]<2,>=1.3.2->pytablewriter~=1.2->rl_zoo3==2.7.0) (2025.2)\n",
            "Requirement already satisfied: six>=1.5 in /usr/local/lib/python3.12/dist-packages (from python-dateutil<3.0.0,>=2.8.0->typepy[datetime]<2,>=1.3.2->pytablewriter~=1.2->rl_zoo3==2.7.0) (1.17.0)\n",
            "Requirement already satisfied: sympy>=1.13.3 in /usr/local/lib/python3.12/dist-packages (from torch<3.0,>=2.3->stable_baselines3<3.0,>=2.7.0->sb3_contrib<3.0,>=2.7.0->rl_zoo3==2.7.0) (1.13.3)\n",
            "Requirement already satisfied: networkx in /usr/local/lib/python3.12/dist-packages (from torch<3.0,>=2.3->stable_baselines3<3.0,>=2.7.0->sb3_contrib<3.0,>=2.7.0->rl_zoo3==2.7.0) (3.5)\n",
            "Requirement already satisfied: jinja2 in /usr/local/lib/python3.12/dist-packages (from torch<3.0,>=2.3->stable_baselines3<3.0,>=2.7.0->sb3_contrib<3.0,>=2.7.0->rl_zoo3==2.7.0) (3.1.6)\n",
            "Requirement already satisfied: nvidia-cuda-nvrtc-cu12==12.6.77 in /usr/local/lib/python3.12/dist-packages (from torch<3.0,>=2.3->stable_baselines3<3.0,>=2.7.0->sb3_contrib<3.0,>=2.7.0->rl_zoo3==2.7.0) (12.6.77)\n",
            "Requirement already satisfied: nvidia-cuda-runtime-cu12==12.6.77 in /usr/local/lib/python3.12/dist-packages (from torch<3.0,>=2.3->stable_baselines3<3.0,>=2.7.0->sb3_contrib<3.0,>=2.7.0->rl_zoo3==2.7.0) (12.6.77)\n",
            "Requirement already satisfied: nvidia-cuda-cupti-cu12==12.6.80 in /usr/local/lib/python3.12/dist-packages (from torch<3.0,>=2.3->stable_baselines3<3.0,>=2.7.0->sb3_contrib<3.0,>=2.7.0->rl_zoo3==2.7.0) (12.6.80)\n",
            "Requirement already satisfied: nvidia-cudnn-cu12==9.10.2.21 in /usr/local/lib/python3.12/dist-packages (from torch<3.0,>=2.3->stable_baselines3<3.0,>=2.7.0->sb3_contrib<3.0,>=2.7.0->rl_zoo3==2.7.0) (9.10.2.21)\n",
            "Requirement already satisfied: nvidia-cublas-cu12==12.6.4.1 in /usr/local/lib/python3.12/dist-packages (from torch<3.0,>=2.3->stable_baselines3<3.0,>=2.7.0->sb3_contrib<3.0,>=2.7.0->rl_zoo3==2.7.0) (12.6.4.1)\n",
            "Requirement already satisfied: nvidia-cufft-cu12==11.3.0.4 in /usr/local/lib/python3.12/dist-packages (from torch<3.0,>=2.3->stable_baselines3<3.0,>=2.7.0->sb3_contrib<3.0,>=2.7.0->rl_zoo3==2.7.0) (11.3.0.4)\n",
            "Requirement already satisfied: nvidia-curand-cu12==10.3.7.77 in /usr/local/lib/python3.12/dist-packages (from torch<3.0,>=2.3->stable_baselines3<3.0,>=2.7.0->sb3_contrib<3.0,>=2.7.0->rl_zoo3==2.7.0) (10.3.7.77)\n",
            "Requirement already satisfied: nvidia-cusolver-cu12==11.7.1.2 in /usr/local/lib/python3.12/dist-packages (from torch<3.0,>=2.3->stable_baselines3<3.0,>=2.7.0->sb3_contrib<3.0,>=2.7.0->rl_zoo3==2.7.0) (11.7.1.2)\n",
            "Requirement already satisfied: nvidia-cusparse-cu12==12.5.4.2 in /usr/local/lib/python3.12/dist-packages (from torch<3.0,>=2.3->stable_baselines3<3.0,>=2.7.0->sb3_contrib<3.0,>=2.7.0->rl_zoo3==2.7.0) (12.5.4.2)\n",
            "Requirement already satisfied: nvidia-cusparselt-cu12==0.7.1 in /usr/local/lib/python3.12/dist-packages (from torch<3.0,>=2.3->stable_baselines3<3.0,>=2.7.0->sb3_contrib<3.0,>=2.7.0->rl_zoo3==2.7.0) (0.7.1)\n",
            "Requirement already satisfied: nvidia-nccl-cu12==2.27.3 in /usr/local/lib/python3.12/dist-packages (from torch<3.0,>=2.3->stable_baselines3<3.0,>=2.7.0->sb3_contrib<3.0,>=2.7.0->rl_zoo3==2.7.0) (2.27.3)\n",
            "Requirement already satisfied: nvidia-nvtx-cu12==12.6.77 in /usr/local/lib/python3.12/dist-packages (from torch<3.0,>=2.3->stable_baselines3<3.0,>=2.7.0->sb3_contrib<3.0,>=2.7.0->rl_zoo3==2.7.0) (12.6.77)\n",
            "Requirement already satisfied: nvidia-nvjitlink-cu12==12.6.85 in /usr/local/lib/python3.12/dist-packages (from torch<3.0,>=2.3->stable_baselines3<3.0,>=2.7.0->sb3_contrib<3.0,>=2.7.0->rl_zoo3==2.7.0) (12.6.85)\n",
            "Requirement already satisfied: nvidia-cufile-cu12==1.11.1.6 in /usr/local/lib/python3.12/dist-packages (from torch<3.0,>=2.3->stable_baselines3<3.0,>=2.7.0->sb3_contrib<3.0,>=2.7.0->rl_zoo3==2.7.0) (1.11.1.6)\n",
            "Requirement already satisfied: triton==3.4.0 in /usr/local/lib/python3.12/dist-packages (from torch<3.0,>=2.3->stable_baselines3<3.0,>=2.7.0->sb3_contrib<3.0,>=2.7.0->rl_zoo3==2.7.0) (3.4.0)\n",
            "Requirement already satisfied: MarkupSafe>=0.9.2 in /usr/local/lib/python3.12/dist-packages (from Mako->alembic>=1.5.0->optuna>=3.0->rl_zoo3==2.7.0) (3.0.2)\n",
            "Requirement already satisfied: contourpy>=1.0.1 in /usr/local/lib/python3.12/dist-packages (from matplotlib->stable_baselines3<3.0,>=2.7.0->sb3_contrib<3.0,>=2.7.0->rl_zoo3==2.7.0) (1.3.3)\n",
            "Requirement already satisfied: cycler>=0.10 in /usr/local/lib/python3.12/dist-packages (from matplotlib->stable_baselines3<3.0,>=2.7.0->sb3_contrib<3.0,>=2.7.0->rl_zoo3==2.7.0) (0.12.1)\n",
            "Requirement already satisfied: fonttools>=4.22.0 in /usr/local/lib/python3.12/dist-packages (from matplotlib->stable_baselines3<3.0,>=2.7.0->sb3_contrib<3.0,>=2.7.0->rl_zoo3==2.7.0) (4.59.2)\n",
            "Requirement already satisfied: kiwisolver>=1.3.1 in /usr/local/lib/python3.12/dist-packages (from matplotlib->stable_baselines3<3.0,>=2.7.0->sb3_contrib<3.0,>=2.7.0->rl_zoo3==2.7.0) (1.4.9)\n",
            "Requirement already satisfied: pillow>=8 in /usr/local/lib/python3.12/dist-packages (from matplotlib->stable_baselines3<3.0,>=2.7.0->sb3_contrib<3.0,>=2.7.0->rl_zoo3==2.7.0) (11.3.0)\n",
            "Requirement already satisfied: pyparsing>=2.3.1 in /usr/local/lib/python3.12/dist-packages (from matplotlib->stable_baselines3<3.0,>=2.7.0->sb3_contrib<3.0,>=2.7.0->rl_zoo3==2.7.0) (3.2.3)\n",
            "Requirement already satisfied: tzdata>=2022.7 in /usr/local/lib/python3.12/dist-packages (from pandas->stable_baselines3<3.0,>=2.7.0->sb3_contrib<3.0,>=2.7.0->rl_zoo3==2.7.0) (2025.2)\n",
            "Requirement already satisfied: charset_normalizer<4,>=2 in /usr/local/lib/python3.12/dist-packages (from requests->huggingface-hub~=0.8->huggingface_sb3<4.0,>=3.0->rl_zoo3==2.7.0) (3.4.3)\n",
            "Requirement already satisfied: idna<4,>=2.5 in /usr/local/lib/python3.12/dist-packages (from requests->huggingface-hub~=0.8->huggingface_sb3<4.0,>=3.0->rl_zoo3==2.7.0) (3.10)\n",
            "Requirement already satisfied: urllib3<3,>=1.21.1 in /usr/local/lib/python3.12/dist-packages (from requests->huggingface-hub~=0.8->huggingface_sb3<4.0,>=3.0->rl_zoo3==2.7.0) (2.5.0)\n",
            "Requirement already satisfied: certifi>=2017.4.17 in /usr/local/lib/python3.12/dist-packages (from requests->huggingface-hub~=0.8->huggingface_sb3<4.0,>=3.0->rl_zoo3==2.7.0) (2025.8.3)\n",
            "Requirement already satisfied: mpmath<1.4,>=1.1.0 in /usr/local/lib/python3.12/dist-packages (from sympy>=1.13.3->torch<3.0,>=2.3->stable_baselines3<3.0,>=2.7.0->sb3_contrib<3.0,>=2.7.0->rl_zoo3==2.7.0) (1.3.0)\n",
            "Building wheels for collected packages: rl_zoo3\n",
            "  Building editable for rl_zoo3 (pyproject.toml) ... \u001b[?25l\u001b[?25hdone\n",
            "  Created wheel for rl_zoo3: filename=rl_zoo3-2.7.0-0.editable-py3-none-any.whl size=4428 sha256=d7a052321a7d16a398290adfad094c0df388e2ae731e2c8acee4a25a44b892a2\n",
            "  Stored in directory: /tmp/pip-ephem-wheel-cache-su7ouor_/wheels/2d/0b/3c/be4c09b7d9d2a891b5d1bc1e086a8fe4f4b4f016a0613b625c\n",
            "Successfully built rl_zoo3\n",
            "Installing collected packages: rl_zoo3\n",
            "  Attempting uninstall: rl_zoo3\n",
            "    Found existing installation: rl_zoo3 2.7.0\n",
            "    Uninstalling rl_zoo3-2.7.0:\n",
            "      Successfully uninstalled rl_zoo3-2.7.0\n",
            "Successfully installed rl_zoo3-2.7.0\n"
          ]
        }
      ],
      "source": [
        "%cd /\n",
        "!pip install -e {trainner_path}"
      ]
    },
    {
      "cell_type": "code",
      "execution_count": null,
      "metadata": {
        "collapsed": true,
        "id": "wZ-shVIX6QE3"
      },
      "outputs": [],
      "source": [
        "%cd {trainner_path}\n",
        "\n",
        "algos = {\n",
        "  # \"a2c\": {\n",
        "  #   \"lr\": 7e-4, \"dev\": \"cpu\"\n",
        "  # },\n",
        "  # 'ddpg': {\n",
        "  #   'lr': 1e-3, 'dev': 'cuda'\n",
        "  # },\n",
        "  'ppo': {\n",
        "    'lr': 3e-4, 'dev': 'cpu'\n",
        "  },\n",
        "  # 'sac': {\n",
        "  #   'lr': 3e-4, 'dev': 'cuda'\n",
        "  # },\n",
        "  # 'td3': {\n",
        "  #   'lr': 1e-3, 'dev': 'cuda'\n",
        "  # }\n",
        "}\n",
        "\n",
        "n_timestep = 100_000\n",
        "save_freq = min(100_000, int(n_timestep / 10))\n",
        "eval_freq = min(200_000, int(n_timestep / 10))\n",
        "max_episode_steps = 100\n",
        "wrapper = [{\"gymnasium.wrappers.TimeLimit\": {\"max_episode_steps\": max_episode_steps}}]\n",
        "n_envs = 16\n",
        "\n",
        "# weights\n",
        "keep_alive_reward = 0.0\n",
        "ctrl_cost_weight = 0.0001\n",
        "target_distance = 2.5\n",
        "forward_velocity_weight = 0.0\n",
        "reach_target_reward = 20.0\n",
        "knee_flex_reward = 0.0\n",
        "feet_up_reward = 0.0\n",
        "\n",
        "# keep_alive_reward: float = 1.0,\n",
        "# ctrl_cost_weight: float = 1e-3,\n",
        "# target_distance: float = 100.0,\n",
        "# forward_velocity_weight: float = 3.0,\n",
        "# reach_target_reward: float = 100.0,\n",
        "# knee_flex_reward: float = 1e-3,\n",
        "# feet_up_reward: float = 1e-3,\n",
        "\n",
        "\n",
        "for algo, value in algos.items():\n",
        "  print('Training:', algo)\n",
        "  config = f'research_config/{algo}.yml'\n",
        "  best = os.path.join(to_load_path, algo, 'best_model.zip')\n",
        "  if not os.path.exists(best):\n",
        "    best = ''\n",
        "  else\n",
        "    best = f'-i {best}'\n",
        "\n",
        "  train_cmd = f'python3 train.py --algo {algo} --env DarwinOp3-v3 -conf {config} \\\n",
        "-f \"{log_dir}\" --tensorboard-log \"{tf_log_dir}\" --save-freq {save_freq} \\\n",
        "--vec-env subproc --eval-freq {eval_freq} --n-eval-envs 1 --eval-episodes 10 \\\n",
        "--env-kwargs keep_alive_reward:{keep_alive_reward} ctrl_cost_weight:{ctrl_cost_weight} \\\n",
        "target_distance:{target_distance} forward_velocity_weight:{forward_velocity_weight} \\\n",
        "reach_target_reward:{reach_target_reward} knee_flex_reward:{knee_flex_reward} \\\n",
        "feet_up_reward:{feet_up_reward} --hyperparams n_envs:{n_envs} \\\n",
        "learning_rate:{value[\"lr\"]} n_timesteps:{n_timestep} env_wrapper:\"{wrapper}\" \\\n",
        "--device {value[\"dev\"]} {best} -P'\n",
        "\n",
        "  print(train_cmd)\n",
        "  !{train_cmd}\n",
        "\n",
        "  video_cmd = f'python3 -m rl_zoo3.record_video --algo {algo} \\\n",
        "--env DarwinOp3-v3 -n 3000 --load-best -o \"{log_dir}\" -f \"{log_dir}\"'\n",
        "  print(video_cmd)\n",
        "  !{video_cmd}\n"
      ]
    }
  ],
  "metadata": {
    "accelerator": "GPU",
    "colab": {
      "gpuType": "T4",
      "machine_shape": "hm",
      "provenance": []
    },
    "kernelspec": {
      "display_name": "Python 3",
      "name": "python3"
    },
    "language_info": {
      "name": "python"
    }
  },
  "nbformat": 4,
  "nbformat_minor": 0
}